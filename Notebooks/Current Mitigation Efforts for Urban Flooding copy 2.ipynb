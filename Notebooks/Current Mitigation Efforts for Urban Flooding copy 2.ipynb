{
 "cells": [
  {
   "cell_type": "markdown",
   "id": "d346e5d1",
   "metadata": {},
   "source": [
    "## Current Mitigation Efforts for Urban Flooding\n",
    "\n",
    "Pavement and other urban development structures minimize the natural vegetation cover (like grass) that would have infiltrated into soil rather than flow into sewers, where chances of flooding are increased. Efforts to prevent urban flooding try to increase the porosity of surfaces in the city to mitigate runoff as well as introducing new sewer systems to better handle the extremity of water. \n",
    "##### Low Impact Development (LID) Structures\n",
    "- Decreases the amount of runoff produced and infiltrates the stormwater into the soil\n",
    "- Mimics the natural processes that normally would have been in place of the pavement\n",
    "- A few examples:\n",
    "    - New York City's \"Rain Gardens\" & \"Green Infrastructure\"\n",
    "        - Rain Gardens are planted throughout the city with native species to store and infiltrate the water \n",
    "        - Permeable paving: pavement is permeable (pervious concrete & asphalt) to allow subsoil infiltration.\n",
    "        - Rain barrels: collects rainwater from rooftop drainpipes, prevents it from becoming runoff. Collected water is reused to water plants and other landscaping uses. \n",
    "        - Green Roofs: a drainage layer sits below vegetation growing in engineered soil on top, reduces the amount of rainwater that becomes runoff or ends up in sewers\n",
    "    - Infiltration trenches: shallow concaves with highly permeable soil that is used to temporarily store the runoff\n",
    "    - Bioretention swales: shallow, vegetated, depressions with sloped sides which act as a channel to capture the runoff\n",
    "    - Bioretention ponds: same as rain garden but w/ hydraulic structures to increase storage \n",
    "    \n",
    "![NYC Rain Garden](NYCRAINGARDEN.jpeg)\n"
   ]
  },
  {
   "cell_type": "markdown",
   "id": "0296cd10",
   "metadata": {},
   "source": [
    "##### Storm Water Management Systems (SWMS)\n",
    "- Operates by draining the excess storm water into the nearest body of water and essentially is a revision of the sewage system\n",
    "- In New York City\n",
    "    - Seperate Storm Sewer System (\"Grey Infrastructure\"): seperate pipes are used to carry storm water and waste water. Wastewater goes through the sewer which lead directly to wastewater treatment plants whereas the stormwater to local waterways\n",
    "    - Bluebelt system: The Bluebelt drainage plan for these 16 watersheds connects natural drainage corridors with conventional storm sewers for an integrated stormwater management system\n",
    "    - Other efforts include: installing backflow valves, improving stormwater and sewage pipes, and increasing effectiveness of catch basin and storm drain maintenance. \n",
    "    "
   ]
  },
  {
   "cell_type": "markdown",
   "id": "9cb5b3ad",
   "metadata": {},
   "source": [
    "##### Effectiveness of Mitigation Methods\n",
    "Storm water management systems: \n",
    "    While these systems are \n",
    "\n",
    "LID Structures:\n",
    "    A 2010 study found that these LID structures present in New York City was able to decrease 30-78% of peak flow (Alfredo et al., 2013)"
   ]
  },
  {
   "cell_type": "markdown",
   "id": "e689adc6",
   "metadata": {},
   "source": [
    "Sources: \n",
    "\n",
    "Alfredo, K., Montalto, F., Goldstein, A., 2010. Observed and modeled performances of prototype green roof test plots subjected to simulated low-and high-intensity precipitations in a laboratory experiment. J. Hydrol. Eng. 15, 444–457. https://doi.org/10.1061/(ASCE)HE.1943-5584.0000135\n",
    "\n",
    "Pour SH, Wahab AKA, Shahid S, Asaduzzaman, Dewan A, Low Impact Development Techniques to Mitigate the Impacts of Climate-Change-Induced Urban Floods: Current Trends, Issues and Challenges, Sustainable Cities and Society (2020),\n",
    "doi: https://doi.org/10.1016/j.scs.2020.102373\n"
   ]
  },
  {
   "cell_type": "code",
   "execution_count": null,
   "id": "c5983eae",
   "metadata": {},
   "outputs": [],
   "source": [
    "311 gowa"
   ]
  }
 ],
 "metadata": {
  "kernelspec": {
   "display_name": "Python 3",
   "language": "python",
   "name": "python3"
  },
  "language_info": {
   "codemirror_mode": {
    "name": "ipython",
    "version": 3
   },
   "file_extension": ".py",
   "mimetype": "text/x-python",
   "name": "python",
   "nbconvert_exporter": "python",
   "pygments_lexer": "ipython3",
   "version": "3.8.8"
  }
 },
 "nbformat": 4,
 "nbformat_minor": 5
}
