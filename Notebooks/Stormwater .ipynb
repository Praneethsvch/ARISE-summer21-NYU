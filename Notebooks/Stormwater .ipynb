{
 "cells": [
  {
   "cell_type": "markdown",
   "id": "700cf910",
   "metadata": {},
   "source": [
    "# How Rain Water Affects People\n"
   ]
  },
  {
   "cell_type": "markdown",
   "id": "e142fa44",
   "metadata": {},
   "source": [
    "- Sewers not updated, need to be based on 5 year return period\n",
    "- Climate change will lead to greater rainfall, more frequent updating of sewers\n",
    "- sewer combines stormwater and regular sewage, when full starts flooding (overflow)\n",
    "    - dangerous because pollutants in the sewage water\n",
    "        - Shoreline erosion may expose stormwater infrastructure to potential damage.(salt water)\n",
    "        - Coastal flooding at outfalls without tidegates may drive backflow into the system, causing upland flooding through street drains. The prolonged presence of saltwater can damage stormwater infrastructure.\n",
    "\n",
    "#### Flash Flooding\n",
    "- \n",
    "\n",
    "\n",
    "#### Current Flood Mitigation Strategies & Efforts\n",
    "- \n"
   ]
  },
  {
   "cell_type": "markdown",
   "id": "42eae0c7",
   "metadata": {},
   "source": []
  }
 ],
 "metadata": {
  "kernelspec": {
   "display_name": "Python 3",
   "language": "python",
   "name": "python3"
  },
  "language_info": {
   "codemirror_mode": {
    "name": "ipython",
    "version": 3
   },
   "file_extension": ".py",
   "mimetype": "text/x-python",
   "name": "python",
   "nbconvert_exporter": "python",
   "pygments_lexer": "ipython3",
   "version": "3.8.8"
  }
 },
 "nbformat": 4,
 "nbformat_minor": 5
}
